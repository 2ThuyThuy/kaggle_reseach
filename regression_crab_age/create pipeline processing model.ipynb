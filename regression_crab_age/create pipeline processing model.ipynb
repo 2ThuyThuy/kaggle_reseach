{
 "cells": [
  {
   "cell_type": "code",
   "execution_count": 24,
   "id": "c39eb6b4",
   "metadata": {},
   "outputs": [],
   "source": [
    "import numpy as np\n",
    "import pandas as pd\n",
    "import matplotlib.pyplot as plt\n",
    "import seaborn as sns\n",
    "\n",
    "from sklearn.linear_model import LinearRegression\n",
    "from sklearn.model_selection import train_test_split\n",
    "\n",
    "from sklearn.metrics import mean_absolute_error\n",
    "SEED = 24"
   ]
  },
  {
   "cell_type": "code",
   "execution_count": 38,
   "id": "68fbd1d7",
   "metadata": {},
   "outputs": [],
   "source": [
    "train_raw = pd.read_csv(\"train.csv\")\n",
    "test_raw = pd.read_csv(\"test.csv\")"
   ]
  },
  {
   "cell_type": "code",
   "execution_count": null,
   "id": "97e33309",
   "metadata": {},
   "outputs": [],
   "source": []
  },
  {
   "cell_type": "markdown",
   "id": "ef8f3b58",
   "metadata": {},
   "source": [
    "# Processing data"
   ]
  },
  {
   "cell_type": "markdown",
   "id": "92eebb97",
   "metadata": {},
   "source": [
    "## One hot data"
   ]
  },
  {
   "cell_type": "code",
   "execution_count": 27,
   "id": "3e594f07",
   "metadata": {},
   "outputs": [],
   "source": [
    "df_train = pd.get_dummies(train_raw, columns = [\"Sex\"])\n",
    "y = df_train[\"Age\"]\n",
    "X = df_train.drop([\"id\",\"Age\"], axis=1)"
   ]
  },
  {
   "cell_type": "markdown",
   "id": "c19ab4f4",
   "metadata": {},
   "source": [
    "## Split train & test"
   ]
  },
  {
   "cell_type": "code",
   "execution_count": 16,
   "id": "6de427e0",
   "metadata": {},
   "outputs": [],
   "source": [
    "X_train, X_test, y_train, y_test = train_test_split(X, y, test_size = 0.2, random_state = SEED)"
   ]
  },
  {
   "cell_type": "markdown",
   "id": "6fdde8be",
   "metadata": {},
   "source": [
    "## Scalling data"
   ]
  },
  {
   "cell_type": "code",
   "execution_count": null,
   "id": "3f173431",
   "metadata": {},
   "outputs": [],
   "source": []
  },
  {
   "cell_type": "code",
   "execution_count": null,
   "id": "756ef00f",
   "metadata": {},
   "outputs": [],
   "source": []
  },
  {
   "cell_type": "code",
   "execution_count": null,
   "id": "4f9a4e29",
   "metadata": {},
   "outputs": [],
   "source": []
  },
  {
   "cell_type": "code",
   "execution_count": null,
   "id": "6cc0989e",
   "metadata": {},
   "outputs": [],
   "source": []
  },
  {
   "cell_type": "code",
   "execution_count": null,
   "id": "0866c68b",
   "metadata": {},
   "outputs": [],
   "source": []
  },
  {
   "cell_type": "code",
   "execution_count": null,
   "id": "b540dc9e",
   "metadata": {},
   "outputs": [],
   "source": []
  },
  {
   "cell_type": "code",
   "execution_count": null,
   "id": "d827f26d",
   "metadata": {},
   "outputs": [],
   "source": []
  },
  {
   "cell_type": "code",
   "execution_count": null,
   "id": "047f02db",
   "metadata": {},
   "outputs": [],
   "source": []
  },
  {
   "cell_type": "markdown",
   "id": "34c0cd20",
   "metadata": {},
   "source": [
    "## Test with base linear regression model"
   ]
  },
  {
   "cell_type": "code",
   "execution_count": 26,
   "id": "4ed637d0",
   "metadata": {},
   "outputs": [
    {
     "name": "stdout",
     "output_type": "stream",
     "text": [
      "MAE:  1.4824897525481464\n"
     ]
    }
   ],
   "source": [
    "base_lr = LinearRegression()\n",
    "base_lr = base_lr.fit(X_train,y_train)\n",
    "y_pred = base_lr.predict(X_test)\n",
    "print(\"MAE: \", mean_absolute_error(y_test, y_pred))"
   ]
  },
  {
   "cell_type": "markdown",
   "id": "ebfd4e29",
   "metadata": {},
   "source": [
    "## predict test"
   ]
  },
  {
   "cell_type": "code",
   "execution_count": 46,
   "id": "7fc2d80d",
   "metadata": {},
   "outputs": [],
   "source": [
    "def gen_submission(model):\n",
    "    \n",
    "    df_sub = test_raw[\"id\"].to_frame()\n",
    "    \n",
    "    ## processing\n",
    "    df_test = pd.get_dummies(test_raw, columns = [\"Sex\"])\n",
    "    df_test.drop([\"id\"], axis=1, inplace=True)\n",
    "    \n",
    "    ## gen file \n",
    "    pred = base_lr.predict(df_test)\n",
    "    df_sub[\"Age\"] = pred\n",
    "    df_sub.to_csv(\"submission_crab.csv\", index =False)"
   ]
  },
  {
   "cell_type": "code",
   "execution_count": 47,
   "id": "06d27063",
   "metadata": {},
   "outputs": [],
   "source": [
    "gen_submission(base_lr)"
   ]
  },
  {
   "cell_type": "code",
   "execution_count": null,
   "id": "84989af3",
   "metadata": {},
   "outputs": [],
   "source": []
  },
  {
   "cell_type": "code",
   "execution_count": null,
   "id": "df5aa2d7",
   "metadata": {},
   "outputs": [],
   "source": []
  },
  {
   "cell_type": "code",
   "execution_count": null,
   "id": "459b9748",
   "metadata": {},
   "outputs": [],
   "source": []
  }
 ],
 "metadata": {
  "kernelspec": {
   "display_name": "dl",
   "language": "python",
   "name": "dl"
  },
  "language_info": {
   "codemirror_mode": {
    "name": "ipython",
    "version": 3
   },
   "file_extension": ".py",
   "mimetype": "text/x-python",
   "name": "python",
   "nbconvert_exporter": "python",
   "pygments_lexer": "ipython3",
   "version": "3.7.6"
  }
 },
 "nbformat": 4,
 "nbformat_minor": 5
}
